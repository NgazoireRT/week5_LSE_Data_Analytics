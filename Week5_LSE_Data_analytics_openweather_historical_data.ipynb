{
 "cells": [
  {
   "cell_type": "markdown",
   "id": "d75a9832",
   "metadata": {},
   "source": [
    "### LSE Data Analytics Online Career Accelerator\n",
    "\n",
    "# DA201: Data Analytics using Python"
   ]
  },
  {
   "cell_type": "markdown",
   "id": "963426a8",
   "metadata": {},
   "source": [
    "## Obtain current and historical weather data  (demonstration)"
   ]
  },
  {
   "cell_type": "markdown",
   "id": "ef810d26",
   "metadata": {},
   "source": [
    "**Important**\n",
    "\n",
    "*Please take note that you will work with the OpenWeather API. Keep in mind that the API is based on live and current weather conditions and specified locations.*"
   ]
  },
  {
   "cell_type": "markdown",
   "id": "8615e7ee",
   "metadata": {},
   "source": [
    "Previously, you learned how to set up your OpenWeather account, create a Environment variable for your API key, import the key into your Jupyter Notebook, and generate a simple request. Let's investigate how to obtain, format, and compare data for the weather in your location today, and in the year 2000. Once you are comfortable, you can then define and compare multiple locations."
   ]
  },
  {
   "cell_type": "markdown",
   "id": "eb962e25",
   "metadata": {},
   "source": [
    "# 1. Prepare your workstation"
   ]
  },
  {
   "cell_type": "code",
   "execution_count": 2,
   "id": "fde628ad",
   "metadata": {},
   "outputs": [],
   "source": [
    "# Import libraries.\n",
    "import os\n",
    "import requests\n",
    "import pandas as pd\n",
    "import json\n",
    "from dotenv import load_dotenv\n",
    "\n",
    "load_dotenv() \n",
    "\n",
    "# Locate and read the key from your .env file.\n",
    "API_key = os.getenv('OpenWeather_API_key')\n"
   ]
  },
  {
   "cell_type": "markdown",
   "id": "c4a538ea",
   "metadata": {},
   "source": [
    "# 2. Find your latitude and longitude coordinates"
   ]
  },
  {
   "cell_type": "code",
   "execution_count": 5,
   "id": "998dcb48",
   "metadata": {},
   "outputs": [],
   "source": [
    "# Create an API call.\n",
    "coordinates = \"http://api.openweathermap.org/geo/1.0/zip?zip=G71,GB\" \"&appid=\" + API_key"
   ]
  },
  {
   "cell_type": "code",
   "execution_count": 6,
   "id": "0e80f750",
   "metadata": {},
   "outputs": [
    {
     "name": "stdout",
     "output_type": "stream",
     "text": [
      "My coordinates: {'zip': 'G71', 'name': 'South Lanarkshire', 'lat': 55.8112, 'lon': -4.076, 'country': 'GB'}\n"
     ]
    }
   ],
   "source": [
    "# Define a response variable.\n",
    "response = requests.get(coordinates)\n",
    "\n",
    "# Print the response.\n",
    "print(\"My coordinates:\" , response.json())"
   ]
  },
  {
   "cell_type": "markdown",
   "id": "f9403c9e",
   "metadata": {},
   "source": [
    "# 3. Retrieve your current weather"
   ]
  },
  {
   "cell_type": "code",
   "execution_count": 9,
   "id": "afdb34d9",
   "metadata": {},
   "outputs": [
    {
     "name": "stdout",
     "output_type": "stream",
     "text": [
      "My weather: {'lat': 51.3824, 'lon': 1.3367, 'timezone': 'Europe/London', 'timezone_offset': 3600, 'current': {'dt': 1690709507, 'sunrise': 1690690512, 'sunset': 1690746409, 'temp': 20.39, 'feels_like': 20, 'pressure': 1011, 'humidity': 58, 'dew_point': 11.86, 'uvi': 4.51, 'clouds': 31, 'visibility': 10000, 'wind_speed': 5.36, 'wind_deg': 221, 'wind_gust': 7.6, 'weather': [{'id': 802, 'main': 'Clouds', 'description': 'scattered clouds', 'icon': '03d'}]}}\n"
     ]
    }
   ],
   "source": [
    "# Create an API call for the current weather in your location and set the parameter to Celsius.\n",
    "my_weather = \"https://api.openweathermap.org/data/3.0/onecall?lat=51.3824&lon=1.3367&exclude=minutely,hourly,daily&units=metric\" \"&appid=\" + API_key\n",
    "\n",
    "# Define a response variable.\n",
    "response = requests.get(my_weather)\n",
    "\n",
    "# Print the response.\n",
    "print(\"My weather:\" , response.json())"
   ]
  },
  {
   "cell_type": "code",
   "execution_count": 11,
   "id": "b3eabb72",
   "metadata": {},
   "outputs": [
    {
     "name": "stdout",
     "output_type": "stream",
     "text": [
      "\u001b[1mSelected data\u001b[0m\n",
      "Temperature: 20.29 °C\n",
      "Wind: 5.36\n",
      "Pressure: 1011\n",
      "Humidity: 58\n",
      "Description: scattered clouds\n"
     ]
    }
   ],
   "source": [
    "# Select and print specified data.\n",
    "data = response.json()['current']\n",
    "\n",
    "humidity = data['humidity']\n",
    "pressure = data['pressure']\n",
    "wind = data['wind_speed']\n",
    "description = data['weather'][0]['description']\n",
    "temp = data['temp']\n",
    "\n",
    "#Create a bolded title for your specified data output.\n",
    "print('\\033[1mSelected data\\033[0m')\n",
    "\n",
    "print('Temperature:', temp, '°C')\n",
    "print('Wind:', wind)\n",
    "print('Pressure:', pressure)\n",
    "print('Humidity:', humidity)\n",
    "print('Description:', description)"
   ]
  },
  {
   "cell_type": "markdown",
   "id": "8d28bcff",
   "metadata": {},
   "source": [
    "# 4. Create a Data Frame"
   ]
  },
  {
   "cell_type": "code",
   "execution_count": 12,
   "id": "138b53ea",
   "metadata": {},
   "outputs": [
    {
     "name": "stdout",
     "output_type": "stream",
     "text": [
      "                  timestamp  temperature  humidity  pressure  wind_speed  \\\n",
      "0 2023-07-30 10:33:34+01:00        20.29        58      1011        5.36   \n",
      "\n",
      "        description  \n",
      "0  scattered clouds  \n"
     ]
    }
   ],
   "source": [
    "# Prepare the Data Frame by creating a list of dictionaries containing the weather data.\n",
    "weather_data = [{\n",
    "    'timestamp': pd.Timestamp(data['dt'], unit='s', tz='Europe/London'),\n",
    "    'temperature': data['temp'],\n",
    "    'humidity': data['humidity'],\n",
    "    'pressure': data['pressure'],\n",
    "    'wind_speed': data['wind_speed'],\n",
    "    'description': data['weather'][0]['description']\n",
    "}]\n",
    "\n",
    "# Create a data frame from the list of dictionaries.\n",
    "df1 = pd.DataFrame(weather_data)\n",
    "# Print the data frame.\n",
    "print(df1)"
   ]
  },
  {
   "cell_type": "markdown",
   "id": "e34d9d83",
   "metadata": {},
   "source": [
    "# 5. Retrieve historical weather data for your location"
   ]
  },
  {
   "cell_type": "code",
   "execution_count": 16,
   "id": "21ea146b",
   "metadata": {},
   "outputs": [
    {
     "name": "stdout",
     "output_type": "stream",
     "text": [
      "My weather in 2000: {'lat': 55.8112, 'lon': -4.076, 'timezone': 'Europe/London', 'timezone_offset': 3600, 'data': [{'dt': 957471056, 'sunrise': 957414317, 'sunset': 957470441, 'temp': 10.98, 'feels_like': 9.91, 'pressure': 1025, 'humidity': 68, 'dew_point': 5.31, 'clouds': 2, 'wind_speed': 2.66, 'wind_deg': 75, 'weather': [{'id': 800, 'main': 'Clear', 'description': 'clear sky', 'icon': '01n'}]}]}\n"
     ]
    }
   ],
   "source": [
    "# Create an API call for the current weather in your location and set the parameter to Celsius.\n",
    "past_weather = \"https://api.openweathermap.org/data/3.0/onecall/timemachine?lat=55.8112&lon=-4.076&dt=957471056&units=metric\" \"&appid=\" + API_key\n",
    "\n",
    "# Define a response variable.\n",
    "response = requests.get(past_weather)\n",
    "\n",
    "# Print the response.\n",
    "print(\"My weather in 2000:\" , response.json())"
   ]
  },
  {
   "cell_type": "code",
   "execution_count": 17,
   "id": "0d195155",
   "metadata": {},
   "outputs": [
    {
     "name": "stdout",
     "output_type": "stream",
     "text": [
      "Temperature: 10.98 °C\n",
      "Wind: 2.66\n",
      "Pressure: 1025\n",
      "Humidity: 68\n",
      "Description: clear sky\n"
     ]
    }
   ],
   "source": [
    "# Select and print specified data. \n",
    "data = response.json()['data'][0]\n",
    "\n",
    "humidity = data['humidity']\n",
    "pressure = data['pressure']\n",
    "wind = data['wind_speed']\n",
    "description = data['weather'][0]['description']\n",
    "temp = data['temp']\n",
    "\n",
    "print('Temperature:', temp, '°C')\n",
    "print('Wind:', wind)\n",
    "print('Pressure:', pressure)\n",
    "print('Humidity:', humidity)\n",
    "print('Description:', description)"
   ]
  },
  {
   "cell_type": "code",
   "execution_count": 18,
   "id": "85e1c009",
   "metadata": {},
   "outputs": [
    {
     "name": "stdout",
     "output_type": "stream",
     "text": [
      "                  timestamp  temperature  humidity  pressure  wind_speed  \\\n",
      "0 2000-05-04 21:10:56+01:00        10.98        68      1025        2.66   \n",
      "\n",
      "  description  \n",
      "0   clear sky  \n"
     ]
    }
   ],
   "source": [
    "# Prepare a Data Frame by creating a list of dictionaries containing the weather data.\n",
    "data = json.loads(response.content)['data']\n",
    "\n",
    "weather_data = []\n",
    "\n",
    "for datum in data:\n",
    "    weather_data.append({\n",
    "        'timestamp': pd.Timestamp(datum['dt'], unit='s', tz='Europe/London'),\n",
    "        'temperature': datum['temp'],\n",
    "        'humidity': datum['humidity'],\n",
    "        'pressure': datum['pressure'],\n",
    "        'wind_speed': datum['wind_speed'],\n",
    "        'description': datum['weather'][0]['description']\n",
    "    })\n",
    "\n",
    "df2 = pd.DataFrame(weather_data)\n",
    "\n",
    "print(df2)"
   ]
  },
  {
   "cell_type": "markdown",
   "id": "d225e171",
   "metadata": {},
   "source": [
    "# 6. Joining the two DataFrames"
   ]
  },
  {
   "cell_type": "code",
   "execution_count": 19,
   "id": "025e2778",
   "metadata": {},
   "outputs": [
    {
     "name": "stdout",
     "output_type": "stream",
     "text": [
      "                  timestamp  temperature  humidity  pressure  wind_speed  \\\n",
      "0 2023-07-30 10:33:34+01:00        20.29        58      1011        5.36   \n",
      "0 2000-05-04 21:10:56+01:00        10.98        68      1025        2.66   \n",
      "\n",
      "        description  \n",
      "0  scattered clouds  \n",
      "0         clear sky  \n"
     ]
    }
   ],
   "source": [
    "# Concatenate the DataFrames.\n",
    "df_concatenated = pd.concat([df1, df2])\n",
    "\n",
    "# View the output.\n",
    "print(df_concatenated)"
   ]
  },
  {
   "cell_type": "markdown",
   "id": "53503590",
   "metadata": {},
   "source": [
    "# 7. Retrieve coordinates using a location name"
   ]
  },
  {
   "cell_type": "code",
   "execution_count": 31,
   "id": "9ab12b93",
   "metadata": {},
   "outputs": [
    {
     "name": "stdout",
     "output_type": "stream",
     "text": [
      "Holiday coordinates: [{'name': 'Abu Dhabi', 'local_names': {'yo': 'Abu Dhabi', 'sl': 'Abu Dabi', 'am': 'አቡ ዳቢ', 'ht': 'Abou Dabi', 'de': 'Abu Dhabi', 'sk': 'Abú Zabí', 'sc': 'Abu Dhabi', 'id': 'Abu Dhabi', 'lt': 'Abu Dabis', 'ka': 'აბუ-ზაბი', 'fo': 'Abu Dhabi', 'tt': 'Әбү-Дәби', 'kn': 'ಅಬು ಧಾಬಿ', 'sr': 'Абу Даби', 'gd': 'Abu Dhabi', 'ks': 'ابوظہبی', 'nl': 'Abu Dhabi', 'th': 'อาบูดาบี', 'ku': 'Abû Zebî', 'ps': 'ابوظبی', 'is': 'Abú Dabí', 'uk': 'Абу-Дабі', 'tl': 'Abu Dhabi', 'os': 'Абу-Даби', 'bo': 'ཨ་པོའུ་དྷ་པེ།', 'vi': 'Abu Dhabi', 'sv': 'Abu Dhabi', 'ml': 'അബുദാബി', 'br': 'Abu Dhabi', 'so': 'Abu Dabi', 'fi': 'Abu Dhabi', 'en': 'Abu Dhabi', 'ie': 'Abu Dhabi', 'fy': 'Abû Daby', 'he': 'אבו דאבי', 'eu': 'Abu Dhabi', 'ur': 'ابوظبی', 'ce': 'Абу-Даби', 'el': 'Αμπού Ντάμπι', 'et': 'Abu Dhabi', 'hi': 'अबू धाबी', 'ga': 'Abú Daibí', 'af': 'Aboe Dhabi', 'bs': 'Abu Dabi', 'sq': 'Abu Dabi', 'kk': 'Абу-Даби', 'mr': 'अबु धाबी', 'ko': '아부다비', 'hy': 'Աբու Դաբի', 'oc': 'Abu Dhabi', 'sn': 'Abu Dhabi', 'uz': 'Abu-Dabi', 'zh': '阿布扎比', 'be': 'Абу-Дабі', 'es': 'Abu Dabi', 'eo': 'Abu-Dabio', 'no': 'Abu Dhabi', 'ug': 'ئەبۇ زەبى', 'or': 'ଆବୁଧାବି', 'lv': 'Abū Dabī', 'cs': 'Abú Dhabí', 'fa': 'ابوظبی', 'te': 'అబు దాబి', 'ar': 'أبو ظبي', 'hu': 'Abu-Dzabi', 'mk': 'Абу Даби', 'sw': 'Abu Dhabi', 'bh': 'अबू धाबी', 'az': 'Əbu-Dabi', 'da': 'Abu Dhabi', 'si': 'අබුඩාබි', 'ja': 'アブダビ', 'io': 'Abu Dhabi', 'ta': 'அபூ ழபீ', 'bg': 'Абу Даби', 'vo': 'Äbu Saby', 'pt': 'Abu Dhabi', 'pa': 'ਅਬੂ ਧਾਬੀ', 'my': 'အဘူဒါဘီမြို့', 'ay': 'Abu Dhabi Marka', 'gl': 'Abu Zabi', 'ha': 'Abu Dhabi', 'ca': 'Abu Dhabi', 'bn': 'আবুধাবি', 'fr': 'Abou Dabi', 'sh': 'Abu Dabi', 'tg': 'Абу Даби', 'hr': 'Abu Dhabi', 'ro': 'Abu Dhabi', 'it': 'Abu Dhabi', 'tr': 'Abu Dabi', 'ne': 'अबु धाबी', 'ba': 'Әбү-Дәби', 'cy': 'Abu Dhabi', 'pl': 'Abu Zabi', 'ki': 'Abu Dhabi', 'mn': 'Абу Даби', 'ru': 'Абу-Даби'}, 'lat': 24.4538352, 'lon': 54.3774014, 'country': 'AE', 'state': 'Abu Dhabi Emirate'}]\n"
     ]
    }
   ],
   "source": [
    "holiday_data = \"http://api.openweathermap.org/geo/1.0/direct?q=Abu Dhabi&limit=1\" \"&appid=\" + API_key\n",
    "\n",
    "resp3 = requests.get(holiday_data)\n",
    "print(\"Holiday coordinates:\", resp3.json())"
   ]
  },
  {
   "cell_type": "markdown",
   "id": "7933d54f",
   "metadata": {},
   "source": [
    "# 8. Using the keys() method"
   ]
  },
  {
   "cell_type": "code",
   "execution_count": 24,
   "id": "5cf4ad97",
   "metadata": {},
   "outputs": [
    {
     "name": "stdout",
     "output_type": "stream",
     "text": [
      "dict_keys(['lat', 'lon', 'timezone', 'timezone_offset', 'current'])\n",
      "Today's weather in my holiday destination: {'lat': 40.7029, 'lon': -73.8006, 'timezone': 'America/New_York', 'timezone_offset': -14400, 'current': {'dt': 1690710377, 'sunrise': 1690710579, 'sunset': 1690762406, 'temp': 19.13, 'feels_like': 19.03, 'pressure': 1011, 'humidity': 74, 'dew_point': 14.39, 'uvi': 0, 'clouds': 40, 'visibility': 10000, 'wind_speed': 8.23, 'wind_deg': 340, 'weather': [{'id': 802, 'main': 'Clouds', 'description': 'scattered clouds', 'icon': '03n'}]}}\n"
     ]
    }
   ],
   "source": [
    "# Create an API call using the coordinates retrived using a location name.\n",
    "holiday_data = \"https://api.openweathermap.org/data/3.0/onecall?lat=40.7029134&lon=-73.8006429&exclude=minutely,hourly,daily&units=metric\" \"&appid=\" + API_key\n",
    "\n",
    "\n",
    "# Define a response variable.\n",
    "newresp = requests.get(holiday_data)\n",
    "\n",
    "# Print the response keys.\n",
    "print(newresp.json().keys())\n",
    "\n",
    "# Print the response.\n",
    "print(\"Today's weather in my holiday destination:\" , newresp.json())\n"
   ]
  },
  {
   "cell_type": "code",
   "execution_count": 25,
   "id": "644869d6",
   "metadata": {},
   "outputs": [
    {
     "name": "stdout",
     "output_type": "stream",
     "text": [
      "\u001b[1mSelected data\u001b[0m\n",
      "Temperature: 19 °C\n",
      "Feels like: 19 °C\n",
      "Wind speed: 8 m/s\n",
      "Wind degree: 340 °\n",
      "Pressure: 1011 hPa\n",
      "Humidity: 74 %\n",
      "Dew point: 14 °C\n",
      "UV index: 0\n",
      "Cloud cover: 40 %\n",
      "Visibility: 10000 m\n",
      "Description: scattered clouds\n"
     ]
    }
   ],
   "source": [
    "# Access the weather data using the 'current' key.\n",
    "current = newresp.json()['current']\n",
    "\n",
    "# Extract the relevant weather information.\n",
    "humidity = current['humidity']\n",
    "pressure = current['pressure']\n",
    "wind = current['wind_speed']\n",
    "description = current['weather'][0]['description']\n",
    "temp = current['temp']\n",
    "feels_like = current['feels_like']\n",
    "uvi = current['uvi']\n",
    "clouds = current['clouds']\n",
    "visibility = current['visibility']\n",
    "dew_point = current['dew_point']\n",
    "wind_deg = current['wind_deg']\n",
    "\n",
    "#Format a heading.\n",
    "print('\\033[1mSelected data\\033[0m')\n",
    "\n",
    "# Print the weather information.\n",
    "print('Temperature:', round(temp), '°C')\n",
    "print('Feels like:', round(feels_like), '°C')\n",
    "print('Wind speed:', round(wind), 'm/s')\n",
    "print('Wind degree:', wind_deg, '°')\n",
    "print('Pressure:', pressure, 'hPa')\n",
    "print('Humidity:', humidity, '%')\n",
    "print('Dew point:', round(dew_point), '°C')\n",
    "print('UV index:', uvi)\n",
    "print('Cloud cover:', clouds, '%')\n",
    "print('Visibility:', visibility, 'm')\n",
    "print('Description:', description)"
   ]
  },
  {
   "cell_type": "markdown",
   "id": "9bc5d01f",
   "metadata": {},
   "source": [
    "# 9. Making multiple API calls simultaneously"
   ]
  },
  {
   "cell_type": "code",
   "execution_count": 32,
   "id": "9c163c22",
   "metadata": {},
   "outputs": [
    {
     "name": "stdout",
     "output_type": "stream",
     "text": [
      "Location\tTemperature (°C)\tWind Speed (m/s)\tPressure (hPa)\tHumidity (%)\tDescription\tSunrise\t\t\t\tSunset\n",
      "London\t\t20\t\t7.72\t\t1010\t\t59\t\tbroken clouds\t2023-07-30 05:20:34\t2023-07-30 20:53:10\n",
      "Paris\t\t20\t\t5.66\t\t1017\t\t64\t\tovercast clouds\t2023-07-30 05:20:36\t2023-07-30 20:33:17\n",
      "New York\t\t19\t\t7.15\t\t1012\t\t70\t\tscattered clouds\t2023-07-30 10:50:27\t2023-07-31 01:14:17\n",
      "Tokyo\t\t31\t\t9.77\t\t1012\t\t76\t\tscattered clouds\t2023-07-29 20:46:55\t2023-07-30 10:48:16\n",
      "Kampala\t\t28\t\t3.56\t\t1014\t\t44\t\tovercast clouds\t2023-07-30 04:52:06\t2023-07-30 16:59:58\n",
      "Glasgow\t\t14\t\t7.72\t\t1000\t\t86\t\tlight rain\t2023-07-30 05:17:12\t2023-07-30 21:29:29\n",
      "Abu Dhabi\t\t40\t\t2.06\t\t998\t\t37\t\tclear sky\t2023-07-30 02:49:41\t2023-07-30 16:08:00\n"
     ]
    }
   ],
   "source": [
    "import os\n",
    "import requests\n",
    "import pandas as pd\n",
    "import pytz\n",
    "from datetime import datetime\n",
    "\n",
    "# Set the API endpoint URL and API key.\n",
    "endpoint_url = \"https://api.openweathermap.org/data/3.0/onecall\"\n",
    "#Access your API key.\n",
    "API_key = os.getenv('OpenWeather_API_key')\n",
    "\n",
    "# Define a list of coordinates for different locations\n",
    "locations = [\n",
    "    {'name': 'London', 'lat': 51.5074, 'lon': -0.1278},\n",
    "    {'name': 'Paris', 'lat': 48.8566, 'lon': 2.3522},\n",
    "    {'name': 'New York', 'lat': 40.7128, 'lon': -74.0060},\n",
    "    {'name': 'Tokyo', 'lat': 35.6895, 'lon': 139.6917},\n",
    "    {'name': 'Kampala', 'lat': 0.31771, 'lon': 32.5813539},\n",
    "    {'name': 'Glasgow', 'lat': 55.8609825, 'lon': -4.2488787},\n",
    "    {'name': 'Abu Dhabi', 'lat': 24.4538352, 'lon': 54.3774014}\n",
    "]\n",
    "\n",
    "# Create an empty list to store the weather data for each location.\n",
    "weather_data = []\n",
    "\n",
    "# Loop through each location and get its weather data.\n",
    "for loc in locations:\n",
    "    # Set the API parameters.\n",
    "    params = {\n",
    "        \"lat\": loc['lat'],\n",
    "        \"lon\": loc['lon'],\n",
    "        \"units\": \"metric\",\n",
    "        \"exclude\": \"minutely,hourly,daily\",\n",
    "        \"appid\": API_key\n",
    "    }\n",
    "\n",
    "    # Send a GET request to the API endpoint and store the response.\n",
    "    response = requests.get(endpoint_url, params=params)\n",
    "\n",
    "    # Access the current weather data.\n",
    "    current = response.json()['current']\n",
    "\n",
    "    # Extract the relevant weather information.\n",
    "    humidity = current['humidity']\n",
    "    pressure = current['pressure']\n",
    "    wind = current['wind_speed']\n",
    "    description = current['weather'][0]['description']\n",
    "    temp = int(round(current['temp']))\n",
    "    sunrise = datetime.fromtimestamp(current['sunrise'], tz=pytz.utc).astimezone(pytz.timezone('Europe/London'))\n",
    "    sunset = datetime.fromtimestamp(current['sunset'], tz=pytz.utc).astimezone(pytz.timezone('Europe/London'))\n",
    "\n",
    "    # Add the weather data to the list.\n",
    "    weather_data.append({\n",
    "        'Location': loc['name'],\n",
    "        'Temperature (°C)': temp,\n",
    "        'Wind Speed (m/s)': wind,\n",
    "        'Pressure (hPa)': pressure,\n",
    "        'Humidity (%)': humidity,\n",
    "        'Description': description,\n",
    "        'Sunrise': sunrise,\n",
    "        'Sunset': sunset\n",
    "    })\n",
    "\n",
    "# Print the weather data in a tabular format.\n",
    "print(\"Location\\tTemperature (°C)\\tWind Speed (m/s)\\tPressure (hPa)\\tHumidity (%)\\tDescription\\tSunrise\\t\\t\\t\\tSunset\")\n",
    "for data in weather_data:\n",
    "    print(f\"{data['Location']}\\t\\t{data['Temperature (°C)']}\\t\\t{data['Wind Speed (m/s)']}\\t\\t{data['Pressure (hPa)']}\\t\\t{data['Humidity (%)']}\\t\\t{data['Description']}\\t{data['Sunrise'].strftime('%Y-%m-%d %H:%M:%S')}\\t{data['Sunset'].strftime('%Y-%m-%d %H:%M:%S')}\")\n",
    "    "
   ]
  },
  {
   "cell_type": "markdown",
   "id": "f0e2ea37",
   "metadata": {},
   "source": [
    "# 10. Create a formatted DataFrame and export it as CSV"
   ]
  },
  {
   "cell_type": "code",
   "execution_count": 34,
   "id": "d01b2a9c",
   "metadata": {},
   "outputs": [
    {
     "data": {
      "text/html": [
       "<style type=\"text/css\">\n",
       "#T_222b5 th {\n",
       "  text-align: center;\n",
       "}\n",
       "#T_222b5_row0_col0, #T_222b5_row0_col5, #T_222b5_row0_col6, #T_222b5_row0_col7, #T_222b5_row1_col0, #T_222b5_row1_col5, #T_222b5_row1_col6, #T_222b5_row1_col7, #T_222b5_row2_col0, #T_222b5_row2_col5, #T_222b5_row2_col6, #T_222b5_row2_col7, #T_222b5_row3_col0, #T_222b5_row3_col5, #T_222b5_row3_col6, #T_222b5_row3_col7, #T_222b5_row4_col0, #T_222b5_row4_col5, #T_222b5_row4_col6, #T_222b5_row4_col7, #T_222b5_row5_col0, #T_222b5_row5_col5, #T_222b5_row5_col6, #T_222b5_row5_col7, #T_222b5_row6_col0, #T_222b5_row6_col5, #T_222b5_row6_col6, #T_222b5_row6_col7 {\n",
       "  text-align: center;\n",
       "}\n",
       "#T_222b5_row0_col1, #T_222b5_row1_col1 {\n",
       "  text-align: center;\n",
       "  background-color: #482979;\n",
       "  color: #f1f1f1;\n",
       "}\n",
       "#T_222b5_row0_col2, #T_222b5_row5_col2 {\n",
       "  text-align: center;\n",
       "  background-color: #2d708e;\n",
       "  color: #f1f1f1;\n",
       "}\n",
       "#T_222b5_row0_col3 {\n",
       "  text-align: center;\n",
       "  background-color: #33638d;\n",
       "  color: #f1f1f1;\n",
       "}\n",
       "#T_222b5_row0_col4 {\n",
       "  text-align: center;\n",
       "  background-color: #3e4a89;\n",
       "  color: #f1f1f1;\n",
       "}\n",
       "#T_222b5_row1_col2 {\n",
       "  text-align: center;\n",
       "  background-color: #3d4d8a;\n",
       "  color: #f1f1f1;\n",
       "}\n",
       "#T_222b5_row1_col3, #T_222b5_row3_col2, #T_222b5_row5_col4, #T_222b5_row6_col1 {\n",
       "  text-align: center;\n",
       "  background-color: #21918c;\n",
       "  color: #f1f1f1;\n",
       "}\n",
       "#T_222b5_row1_col4 {\n",
       "  text-align: center;\n",
       "  background-color: #38598c;\n",
       "  color: #f1f1f1;\n",
       "}\n",
       "#T_222b5_row2_col1, #T_222b5_row4_col2 {\n",
       "  text-align: center;\n",
       "  background-color: #482374;\n",
       "  color: #f1f1f1;\n",
       "}\n",
       "#T_222b5_row2_col2 {\n",
       "  text-align: center;\n",
       "  background-color: #31678e;\n",
       "  color: #f1f1f1;\n",
       "}\n",
       "#T_222b5_row2_col3, #T_222b5_row3_col3 {\n",
       "  text-align: center;\n",
       "  background-color: #2d718e;\n",
       "  color: #f1f1f1;\n",
       "}\n",
       "#T_222b5_row2_col4 {\n",
       "  text-align: center;\n",
       "  background-color: #30698e;\n",
       "  color: #f1f1f1;\n",
       "}\n",
       "#T_222b5_row3_col1 {\n",
       "  text-align: center;\n",
       "  background-color: #31668e;\n",
       "  color: #f1f1f1;\n",
       "}\n",
       "#T_222b5_row3_col4 {\n",
       "  text-align: center;\n",
       "  background-color: #2a778e;\n",
       "  color: #f1f1f1;\n",
       "}\n",
       "#T_222b5_row4_col1 {\n",
       "  text-align: center;\n",
       "  background-color: #39568c;\n",
       "  color: #f1f1f1;\n",
       "}\n",
       "#T_222b5_row4_col3 {\n",
       "  text-align: center;\n",
       "  background-color: #287d8e;\n",
       "  color: #f1f1f1;\n",
       "}\n",
       "#T_222b5_row4_col4 {\n",
       "  text-align: center;\n",
       "  background-color: #481b6d;\n",
       "  color: #f1f1f1;\n",
       "}\n",
       "#T_222b5_row5_col1, #T_222b5_row6_col2, #T_222b5_row6_col3, #T_222b5_row6_col4 {\n",
       "  text-align: center;\n",
       "  background-color: #440154;\n",
       "  color: #f1f1f1;\n",
       "}\n",
       "#T_222b5_row5_col3 {\n",
       "  text-align: center;\n",
       "  background-color: #481467;\n",
       "  color: #f1f1f1;\n",
       "}\n",
       "</style>\n",
       "<table id=\"T_222b5\">\n",
       "  <caption>Example DataFrame</caption>\n",
       "  <thead>\n",
       "    <tr>\n",
       "      <th class=\"blank level0\" >&nbsp;</th>\n",
       "      <th id=\"T_222b5_level0_col0\" class=\"col_heading level0 col0\" >Location</th>\n",
       "      <th id=\"T_222b5_level0_col1\" class=\"col_heading level0 col1\" >Temperature (°C)</th>\n",
       "      <th id=\"T_222b5_level0_col2\" class=\"col_heading level0 col2\" >Wind Speed (m/s)</th>\n",
       "      <th id=\"T_222b5_level0_col3\" class=\"col_heading level0 col3\" >Pressure (hPa)</th>\n",
       "      <th id=\"T_222b5_level0_col4\" class=\"col_heading level0 col4\" >Humidity (%)</th>\n",
       "      <th id=\"T_222b5_level0_col5\" class=\"col_heading level0 col5\" >Description</th>\n",
       "      <th id=\"T_222b5_level0_col6\" class=\"col_heading level0 col6\" >Sunrise</th>\n",
       "      <th id=\"T_222b5_level0_col7\" class=\"col_heading level0 col7\" >Sunset</th>\n",
       "    </tr>\n",
       "  </thead>\n",
       "  <tbody>\n",
       "    <tr>\n",
       "      <th id=\"T_222b5_level0_row0\" class=\"row_heading level0 row0\" >0</th>\n",
       "      <td id=\"T_222b5_row0_col0\" class=\"data row0 col0\" >London</td>\n",
       "      <td id=\"T_222b5_row0_col1\" class=\"data row0 col1\" >20</td>\n",
       "      <td id=\"T_222b5_row0_col2\" class=\"data row0 col2\" >7.720000</td>\n",
       "      <td id=\"T_222b5_row0_col3\" class=\"data row0 col3\" >1010</td>\n",
       "      <td id=\"T_222b5_row0_col4\" class=\"data row0 col4\" >59</td>\n",
       "      <td id=\"T_222b5_row0_col5\" class=\"data row0 col5\" >broken clouds</td>\n",
       "      <td id=\"T_222b5_row0_col6\" class=\"data row0 col6\" >2023-07-30 05:20:34+01:00</td>\n",
       "      <td id=\"T_222b5_row0_col7\" class=\"data row0 col7\" >2023-07-30 20:53:10+01:00</td>\n",
       "    </tr>\n",
       "    <tr>\n",
       "      <th id=\"T_222b5_level0_row1\" class=\"row_heading level0 row1\" >1</th>\n",
       "      <td id=\"T_222b5_row1_col0\" class=\"data row1 col0\" >Paris</td>\n",
       "      <td id=\"T_222b5_row1_col1\" class=\"data row1 col1\" >20</td>\n",
       "      <td id=\"T_222b5_row1_col2\" class=\"data row1 col2\" >5.660000</td>\n",
       "      <td id=\"T_222b5_row1_col3\" class=\"data row1 col3\" >1017</td>\n",
       "      <td id=\"T_222b5_row1_col4\" class=\"data row1 col4\" >64</td>\n",
       "      <td id=\"T_222b5_row1_col5\" class=\"data row1 col5\" >overcast clouds</td>\n",
       "      <td id=\"T_222b5_row1_col6\" class=\"data row1 col6\" >2023-07-30 05:20:36+01:00</td>\n",
       "      <td id=\"T_222b5_row1_col7\" class=\"data row1 col7\" >2023-07-30 20:33:17+01:00</td>\n",
       "    </tr>\n",
       "    <tr>\n",
       "      <th id=\"T_222b5_level0_row2\" class=\"row_heading level0 row2\" >2</th>\n",
       "      <td id=\"T_222b5_row2_col0\" class=\"data row2 col0\" >New York</td>\n",
       "      <td id=\"T_222b5_row2_col1\" class=\"data row2 col1\" >19</td>\n",
       "      <td id=\"T_222b5_row2_col2\" class=\"data row2 col2\" >7.150000</td>\n",
       "      <td id=\"T_222b5_row2_col3\" class=\"data row2 col3\" >1012</td>\n",
       "      <td id=\"T_222b5_row2_col4\" class=\"data row2 col4\" >70</td>\n",
       "      <td id=\"T_222b5_row2_col5\" class=\"data row2 col5\" >scattered clouds</td>\n",
       "      <td id=\"T_222b5_row2_col6\" class=\"data row2 col6\" >2023-07-30 10:50:27+01:00</td>\n",
       "      <td id=\"T_222b5_row2_col7\" class=\"data row2 col7\" >2023-07-31 01:14:17+01:00</td>\n",
       "    </tr>\n",
       "    <tr>\n",
       "      <th id=\"T_222b5_level0_row3\" class=\"row_heading level0 row3\" >3</th>\n",
       "      <td id=\"T_222b5_row3_col0\" class=\"data row3 col0\" >Tokyo</td>\n",
       "      <td id=\"T_222b5_row3_col1\" class=\"data row3 col1\" >31</td>\n",
       "      <td id=\"T_222b5_row3_col2\" class=\"data row3 col2\" >9.770000</td>\n",
       "      <td id=\"T_222b5_row3_col3\" class=\"data row3 col3\" >1012</td>\n",
       "      <td id=\"T_222b5_row3_col4\" class=\"data row3 col4\" >76</td>\n",
       "      <td id=\"T_222b5_row3_col5\" class=\"data row3 col5\" >scattered clouds</td>\n",
       "      <td id=\"T_222b5_row3_col6\" class=\"data row3 col6\" >2023-07-29 20:46:55+01:00</td>\n",
       "      <td id=\"T_222b5_row3_col7\" class=\"data row3 col7\" >2023-07-30 10:48:16+01:00</td>\n",
       "    </tr>\n",
       "    <tr>\n",
       "      <th id=\"T_222b5_level0_row4\" class=\"row_heading level0 row4\" >4</th>\n",
       "      <td id=\"T_222b5_row4_col0\" class=\"data row4 col0\" >Kampala</td>\n",
       "      <td id=\"T_222b5_row4_col1\" class=\"data row4 col1\" >28</td>\n",
       "      <td id=\"T_222b5_row4_col2\" class=\"data row4 col2\" >3.560000</td>\n",
       "      <td id=\"T_222b5_row4_col3\" class=\"data row4 col3\" >1014</td>\n",
       "      <td id=\"T_222b5_row4_col4\" class=\"data row4 col4\" >44</td>\n",
       "      <td id=\"T_222b5_row4_col5\" class=\"data row4 col5\" >overcast clouds</td>\n",
       "      <td id=\"T_222b5_row4_col6\" class=\"data row4 col6\" >2023-07-30 04:52:06+01:00</td>\n",
       "      <td id=\"T_222b5_row4_col7\" class=\"data row4 col7\" >2023-07-30 16:59:58+01:00</td>\n",
       "    </tr>\n",
       "    <tr>\n",
       "      <th id=\"T_222b5_level0_row5\" class=\"row_heading level0 row5\" >5</th>\n",
       "      <td id=\"T_222b5_row5_col0\" class=\"data row5 col0\" >Glasgow</td>\n",
       "      <td id=\"T_222b5_row5_col1\" class=\"data row5 col1\" >14</td>\n",
       "      <td id=\"T_222b5_row5_col2\" class=\"data row5 col2\" >7.720000</td>\n",
       "      <td id=\"T_222b5_row5_col3\" class=\"data row5 col3\" >1000</td>\n",
       "      <td id=\"T_222b5_row5_col4\" class=\"data row5 col4\" >86</td>\n",
       "      <td id=\"T_222b5_row5_col5\" class=\"data row5 col5\" >light rain</td>\n",
       "      <td id=\"T_222b5_row5_col6\" class=\"data row5 col6\" >2023-07-30 05:17:12+01:00</td>\n",
       "      <td id=\"T_222b5_row5_col7\" class=\"data row5 col7\" >2023-07-30 21:29:29+01:00</td>\n",
       "    </tr>\n",
       "    <tr>\n",
       "      <th id=\"T_222b5_level0_row6\" class=\"row_heading level0 row6\" >6</th>\n",
       "      <td id=\"T_222b5_row6_col0\" class=\"data row6 col0\" >Abu Dhabi</td>\n",
       "      <td id=\"T_222b5_row6_col1\" class=\"data row6 col1\" >40</td>\n",
       "      <td id=\"T_222b5_row6_col2\" class=\"data row6 col2\" >2.060000</td>\n",
       "      <td id=\"T_222b5_row6_col3\" class=\"data row6 col3\" >998</td>\n",
       "      <td id=\"T_222b5_row6_col4\" class=\"data row6 col4\" >37</td>\n",
       "      <td id=\"T_222b5_row6_col5\" class=\"data row6 col5\" >clear sky</td>\n",
       "      <td id=\"T_222b5_row6_col6\" class=\"data row6 col6\" >2023-07-30 02:49:41+01:00</td>\n",
       "      <td id=\"T_222b5_row6_col7\" class=\"data row6 col7\" >2023-07-30 16:08:00+01:00</td>\n",
       "    </tr>\n",
       "  </tbody>\n",
       "</table>\n"
      ],
      "text/plain": [
       "<pandas.io.formats.style.Styler at 0x7f7a73307100>"
      ]
     },
     "metadata": {},
     "output_type": "display_data"
    }
   ],
   "source": [
    "# Create a data frame from the list of dictionaries.\n",
    "df = pd.DataFrame(weather_data)\n",
    "\n",
    "styled_df = df.style \\\n",
    "    .set_caption(\"Example DataFrame\") \\\n",
    "    .set_properties(**{'text-align': 'center'}) \\\n",
    "    .set_table_styles([{'selector': 'th', 'props': [('text-align', 'center')]}]) \\\n",
    "    .background_gradient(cmap='viridis', low=0, high=1)\n",
    "\n",
    "# display the styled DataFrame\n",
    "display(styled_df)\n",
    "\n",
    "# export dataframe to csv\n",
    "df.to_csv('mydata.csv', index=False)"
   ]
  },
  {
   "cell_type": "code",
   "execution_count": null,
   "id": "180c3934",
   "metadata": {},
   "outputs": [],
   "source": []
  }
 ],
 "metadata": {
  "kernelspec": {
   "display_name": "Python 3 (ipykernel)",
   "language": "python",
   "name": "python3"
  },
  "language_info": {
   "codemirror_mode": {
    "name": "ipython",
    "version": 3
   },
   "file_extension": ".py",
   "mimetype": "text/x-python",
   "name": "python",
   "nbconvert_exporter": "python",
   "pygments_lexer": "ipython3",
   "version": "3.10.9"
  }
 },
 "nbformat": 4,
 "nbformat_minor": 5
}
